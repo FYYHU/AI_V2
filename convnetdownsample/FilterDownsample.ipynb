{
 "cells": [
  {
   "cell_type": "code",
   "execution_count": null,
   "metadata": {},
   "outputs": [],
   "source": [
    "import numpy as np\n",
    "import pandas as pd\n",
    "import os\n",
    "import shutil\n",
    "import torchvision.transforms as transforms\n",
    "import PIL"
   ]
  },
  {
   "cell_type": "code",
   "execution_count": null,
   "metadata": {},
   "outputs": [],
   "source": [
    "pd_label = pd.read_csv('labels.csv')\n",
    "pd_label"
   ]
  },
  {
   "cell_type": "code",
   "execution_count": null,
   "metadata": {},
   "outputs": [],
   "source": [
    "#frequency of each class\n",
    "pd_label['label'].value_counts()"
   ]
  },
  {
   "cell_type": "code",
   "execution_count": null,
   "metadata": {},
   "outputs": [],
   "source": [
    "#downsample the data based on the frequency of each class we'll use the minimum frequency as the threshold\n",
    "min_freq = pd_label['label'].value_counts().min()\n",
    "min_freq"
   ]
  },
  {
   "cell_type": "code",
   "execution_count": null,
   "metadata": {},
   "outputs": [],
   "source": [
    "#downsample the data\n",
    "pd_label_downsampled = pd_label.groupby('label').apply(lambda x: x.sample(min_freq)).reset_index(drop=True)\n",
    "pd_label_downsampled"
   ]
  },
  {
   "cell_type": "code",
   "execution_count": null,
   "metadata": {},
   "outputs": [],
   "source": [
    "pd_label_downsampled['label'].value_counts()"
   ]
  },
  {
   "cell_type": "code",
   "execution_count": null,
   "metadata": {},
   "outputs": [],
   "source": [
    "#create new directory for the downsampled data\n",
    "source_dir = \"./DataFiltered/\"\n",
    "target_dir = \"./DataFilteredDownsampled/\"\n",
    "\n",
    "#remove the directory if it already exists\n",
    "if os.path.exists(target_dir):\n",
    "    shutil.rmtree(target_dir)\n",
    "\n",
    "#create the directory\n",
    "os.mkdir(target_dir)\n",
    "\n",
    "#copy the files to the new directory\n",
    "for file in pd_label_downsampled['filename']:\n",
    "    shutil.copy(source_dir + file, target_dir + file)"
   ]
  },
  {
   "cell_type": "code",
   "execution_count": null,
   "metadata": {},
   "outputs": [],
   "source": [
    "#save the downsampled labels\n",
    "pd_label_downsampled.to_csv('./convnetdownsample/labels_downsampled.csv', index=False)"
   ]
  }
 ],
 "metadata": {
  "kernelspec": {
   "display_name": "torch",
   "language": "python",
   "name": "python3"
  },
  "language_info": {
   "name": "python",
   "version": "3.9.15 (main, Nov 24 2022, 14:39:17) [MSC v.1916 64 bit (AMD64)]"
  },
  "orig_nbformat": 4,
  "vscode": {
   "interpreter": {
    "hash": "4a71982e2765f6eb6b33820c8a9a4dd21ae31a9aa60cef222f62c4fbc4323d02"
   }
  }
 },
 "nbformat": 4,
 "nbformat_minor": 2
}
